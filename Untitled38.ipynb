{
  "nbformat": 4,
  "nbformat_minor": 0,
  "metadata": {
    "colab": {
      "provenance": []
    },
    "kernelspec": {
      "name": "python3",
      "display_name": "Python 3"
    },
    "language_info": {
      "name": "python"
    }
  },
  "cells": [
    {
      "cell_type": "code",
      "execution_count": 3,
      "metadata": {
        "colab": {
          "base_uri": "https://localhost:8080/"
        },
        "id": "b4YE736Fv87y",
        "outputId": "248c4dcb-db6a-4e1f-9bd8-fcc4748ee1e5"
      },
      "outputs": [
        {
          "output_type": "stream",
          "name": "stdout",
          "text": [
            "\n",
            "To-Do List Manager\n",
            "1. Add a Task\n",
            "2. View Tasks\n",
            "3. Mark Task as Completed\n",
            "4. Delete a Task\n",
            "5. Exit\n",
            "Choose an option (1-5): 5\n",
            "Goodbye!\n"
          ]
        }
      ],
      "source": [
        "def show_menu():\n",
        "    print(\"\\nTo-Do List Manager\")\n",
        "    print(\"1. Add a Task\")\n",
        "    print(\"2. View Tasks\")\n",
        "    print(\"3. Mark Task as Completed\")\n",
        "    print(\"4. Delete a Task\")\n",
        "    print(\"5. Exit\")\n",
        "\n",
        "def add_task(tasks):\n",
        "    task = input(\"Enter the task: \")\n",
        "    tasks.append({\"task\": task, \"completed\": False})\n",
        "    print(\"Task added!\")\n",
        "\n",
        "def view_tasks(tasks):\n",
        "    if not tasks:\n",
        "        print(\"No tasks found!\")\n",
        "    else:\n",
        "        for i, task in enumerate(tasks, start=1):\n",
        "            status = \"✔️\" if task[\"completed\"] else \"❌\"\n",
        "            print(f\"{i}. {task['task']} [{status}]\")\n",
        "\n",
        "def mark_task_completed(tasks):\n",
        "    view_tasks(tasks)\n",
        "    try:\n",
        "        task_num = int(input(\"Enter the task number to mark as completed: \"))\n",
        "        if 1 <= task_num <= len(tasks):\n",
        "            tasks[task_num - 1][\"completed\"] = True\n",
        "            print(\"Task marked as completed!\")\n",
        "        else:\n",
        "            print(\"Invalid task number!\")\n",
        "    except ValueError:\n",
        "        print(\"Please enter a valid number.\")\n",
        "\n",
        "def delete_task(tasks):\n",
        "    view_tasks(tasks)\n",
        "    try:\n",
        "        task_num = int(input(\"Enter the task number to delete: \"))\n",
        "        if 1 <= task_num <= len(tasks):\n",
        "            tasks.pop(task_num - 1)\n",
        "            print(\"Task deleted!\")\n",
        "        else:\n",
        "            print(\"Invalid task number!\")\n",
        "    except ValueError:\n",
        "        print(\"Please enter a valid number.\")\n",
        "\n",
        "def main():\n",
        "    tasks = []\n",
        "    while True:\n",
        "        show_menu()\n",
        "        choice = input(\"Choose an option (1-5): \")\n",
        "        if choice == \"1\":\n",
        "            add_task(tasks)\n",
        "        elif choice == \"2\":\n",
        "            view_tasks(tasks)\n",
        "        elif choice == \"3\":\n",
        "            mark_task_completed(tasks)\n",
        "        elif choice == \"4\":\n",
        "            delete_task(tasks)\n",
        "        elif choice == \"5\":\n",
        "            print(\"Goodbye!\")\n",
        "            break\n",
        "        else:\n",
        "            print(\"Invalid choice! Please choose a number between 1 and 5.\")\n",
        "\n",
        "if __name__ == \"__main__\":\n",
        "    main()\n"
      ]
    },
    {
      "cell_type": "code",
      "source": [],
      "metadata": {
        "id": "2eKi9hPsw5kp"
      },
      "execution_count": null,
      "outputs": []
    }
  ]
}